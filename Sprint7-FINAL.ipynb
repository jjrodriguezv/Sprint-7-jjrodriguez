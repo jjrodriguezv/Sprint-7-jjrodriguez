{
 "cells": [
  {
   "cell_type": "markdown",
   "metadata": {},
   "source": [
    "NIVELL 1\n",
    "\n",
    "- Exercici 1\n",
    "Calculadora de l'índex de massa corporal\n",
    "\n",
    "Escriu una funció que calculi l'IMC ingressat per l'usuari/ària, és a dir, qui ho executi haurà d'ingressar aquestes dades. Pots obtenir més informació del seu càlcul en:\n",
    "\n",
    "-> Índice de masa corporal IMC que es y como se calcula.\n",
    "\n",
    "La funció ha de classificar el resultat en les seves respectives categories"
   ]
  },
  {
   "cell_type": "code",
   "execution_count": 55,
   "metadata": {},
   "outputs": [],
   "source": [
    "# CALCULADORA DE INDICE DE MASA CORPORAL\n",
    "def calcula_imc (p,a):\n",
    "    imc = p/a**2\n",
    "    return imc\n",
    "\n",
    "def valida_numero (valor):\n",
    "    try: \n",
    "        float(valor)\n",
    "        return True\n",
    "    except (ValueError, TypeError):\n",
    "        return False\n",
    "\n",
    "def resultado_imc(imc_calculado):\n",
    "    if imc_calculado >= 16 and imc_calculado <= 16.9:\n",
    "        resultado = \"su imc indica Delgadez Severa\"\n",
    "    elif imc_calculado >= 17 and imc_calculado <= 18.4:\n",
    "        resultado = \"su imc indica Delgadez Leve\"\n",
    "    elif imc_calculado >= 18.5 and imc_calculado <= 24.9:\n",
    "        resultado = \"su imc indica Peso Normal\"\n",
    "    else:\n",
    "        resultado = \"su imc indica cierto grado de obesidad, debe revisarlo\"\n",
    "    \n",
    "    return resultado\n",
    "\n",
    "def calcula_mi_imc():\n",
    "    continuar = 1\n",
    "    while continuar == 1:\n",
    "        peso = int(input(\"Indique su peso: \"))\n",
    "        es_numero = valida_numero(peso)\n",
    "        if es_numero == True:\n",
    "            altura = float(input(\"Indique altura: (favor utilice . como separador de decimales) \"))\n",
    "            es_numero = valida_numero(altura)\n",
    "            print(altura)\n",
    "            if es_numero == True:\n",
    "                if altura <= 2.80 :\n",
    "                   su_imc = calcula_imc(peso, altura)\n",
    "                   print(f\"Su IMC es : {su_imc:.2f}\")\n",
    "                   diagnostico = resultado_imc(su_imc)     \n",
    "                   print (f\"Diagnostico : {diagnostico}\")\n",
    "                else:\n",
    "                    print(f\"el valor: {altura}\" \"esta fuera de rango\")\n",
    "                    continuar = 0\n",
    "            else:\n",
    "                print(\"Altura invalida, por favor no introduzca letras u otros caractere. Inténelo de nuevo\")\n",
    "                continuar = 0\n",
    "        else:\n",
    "            print(\"introduzca un peso válido, por favor no introduzca letras u otros caracteres. Inténtelo de nuevo\")\n",
    "            continuar = 0\n",
    "        \n",
    "        if continuar == 1:\n",
    "            continuar = int(input(\"desea continuar? (1 = SI; 0 = NO)\"))\n",
    "\n",
    "    print (\"Gracias por participar. Hasta Luego\")\n",
    "\n",
    "# Fin funcion Principal"
   ]
  },
  {
   "cell_type": "code",
   "execution_count": 56,
   "metadata": {},
   "outputs": [
    {
     "name": "stdout",
     "output_type": "stream",
     "text": [
      "1.71\n",
      "Su IMC es : 23.94\n",
      "Diagnostico : su imc indica Peso Normal\n",
      "1.82\n",
      "Su IMC es : 22.94\n",
      "Diagnostico : su imc indica Peso Normal\n",
      "Gracias por participar. Hasta Luego\n"
     ]
    }
   ],
   "source": [
    "calcula_mi_imc()\n"
   ]
  },
  {
   "cell_type": "markdown",
   "metadata": {},
   "source": [
    "- Exercici 2\n",
    "Convertidor de temperatures.\n",
    "\n",
    "Existeixen diverses unitats de temperatura utilitzades en diferents contextos i regions. Les més comunes són Celsius (°C), Fahrenheit (°F) i Kelvin (K). També existeixen altres unitats com Rankine (°Ra) i Réaumur (°Re). Selecciona almenys 2 conversors, de tal manera que en introduir una temperatura retorni, com a mínim, dues conversions."
   ]
  },
  {
   "cell_type": "code",
   "execution_count": null,
   "metadata": {},
   "outputs": [],
   "source": [
    "# CONVERTIDOR DE GRADOS CELSIUS A CENTIGRDOS Y VICEVERSA\n",
    "def valida_numero (valor):\n",
    "    try: \n",
    "        float(valor)\n",
    "        return True\n",
    "    except (ValueError, TypeError):\n",
    "        return False\n",
    "\n",
    "def convierte_far_a_cel (farh):\n",
    "    celc = float((farh - 32) * 0.555)\n",
    "    return celc\n",
    "\n",
    "def convierte_cel_a_far (celc):\n",
    "    farh = float((celc * 1.8) + 32)\n",
    "    return farh\n",
    "\n",
    "#Programa Principal\n",
    "def calcula_nueva_temperatura():\n",
    "    continuar = 1\n",
    "    while continuar == 1:\n",
    "        tipo_conversion = int(input(\"Convertir de Celsius a Fahrenhit presione: 1 - Fahrenhit a Celsius presione: 2\"))\n",
    "        if tipo_conversion == 1: \n",
    "            celsius = input(\"Celsius: \")\n",
    "            es_numero = valida_numero(celsius)\n",
    "            if es_numero == True:\n",
    "                celsius = float(celsius)\n",
    "                faren = convierte_cel_a_far(celsius)\n",
    "                print(f\"Farhenheit: {faren}\")\n",
    "            else:\n",
    "                print(\"Introduzca una valor válido\")\n",
    "        elif tipo_conversion == 2:\n",
    "            farhenheit = float(input(\"Farenheit: \"))\n",
    "            es_numero = valida_numero(farhenheit)\n",
    "            if es_numero == True:\n",
    "                farhenheit = float(farhenheit)\n",
    "                celsius = convierte_far_a_cel(farhenheit)\n",
    "                print(f\"Celsius: {celsius}\")\n",
    "            else:\n",
    "                print(\"Introduzca un valor válido\")\n",
    "        else:\n",
    "            print (\"Debe indicar un tipo válido de conversión\")\n",
    "\n",
    "        continuar = int(input(\"desea continuar? (1 = SI; 0 = NO)\"))\n",
    "\n",
    "    print (\"Gracias por participar. Hasta Luego\")\n",
    "    #Fin Programa Principal"
   ]
  },
  {
   "cell_type": "code",
   "execution_count": 70,
   "metadata": {},
   "outputs": [
    {
     "name": "stdout",
     "output_type": "stream",
     "text": [
      "Farhenheit: 113.0\n",
      "Celsius: 25.53\n",
      "Gracias por participar. Hasta Luego\n"
     ]
    }
   ],
   "source": [
    "calcula_nueva_temperatura()"
   ]
  },
  {
   "cell_type": "markdown",
   "metadata": {},
   "source": [
    "- Exercici 3\n",
    "Comptador de paraules d'un text.\n",
    "\n",
    "Escriu una funció que donat un text, mostri les vegades que apareix cada paraula."
   ]
  },
  {
   "cell_type": "code",
   "execution_count": 5,
   "metadata": {},
   "outputs": [],
   "source": [
    "# CONTADOR DE PALABRAS DE UN TEXTO\n",
    "# from collections import Counter\n",
    "\n",
    "def convierte_texto_a_lista(texto):\n",
    "    return texto.split()\n",
    "\n",
    "def cuenta_palabras (lista_texto):\n",
    "    # Se asigna la lista a la variables palabras y se crea un diccionario vacío llamado palabras\n",
    "    palabras = lista_texto\n",
    "    diccionario_palabras = dict()\n",
    "\n",
    "    # se recorre el diccionario a mediante cada uno de sus elementos clave\n",
    "    # si la palabra está en el diccionario se incrementa en 1 el número de ocurrencias,\n",
    "    # de lo contrrio, es la primera vez y se asigna 1 al número de ocurrencias\n",
    "    for palabra in palabras:\n",
    "        if palabra in diccionario_palabras:\n",
    "            diccionario_palabras[palabra] += 1\n",
    "        else:\n",
    "            diccionario_palabras[palabra] = 1\n",
    "    return diccionario_palabras\n",
    "\n",
    "def cuenta_mis_palabras():\n",
    "    #Programa Principal\n",
    "    # Se solicita el texto y se convierten todas las palabras a lowercase\n",
    "    texto = input(\"Introduzca texto a evaluar: \")\n",
    "    texto_min = texto.lower()\n",
    "\n",
    "    # El texto es convertido en lista la cual se ordena. Luego ésta pasará como parámetro a la función de conteo de palabras\n",
    "    nueva_lista = convierte_texto_a_lista(texto_min)\n",
    "    nueva_lista.sort()\n",
    "    # print(nueva_lista)\n",
    "    numero_palabras_introducidas = len(nueva_lista)\n",
    "    print(F\"La cantidad de palabras introducidas es: {numero_palabras_introducidas}\")\n",
    "    print(f\"Al ordenar y contar las veces que aparece cada palabra, el resultado es: \\n\")\n",
    "    #Se llama a la función  de contar palbras y se imprime el diccionario con cada palabra y las veces en que aparece\n",
    "    resultado = cuenta_palabras(nueva_lista)\n",
    "    print(f\"El diccionario creado es: {resultado}\")\n",
    "    for palabra, total_palabra in resultado.items():\n",
    "        print(f\"{palabra} :  {total_palabra}\", end = \" \")\n",
    "\n",
    "#Fin Programa Principal"
   ]
  },
  {
   "cell_type": "code",
   "execution_count": 6,
   "metadata": {},
   "outputs": [
    {
     "name": "stdout",
     "output_type": "stream",
     "text": [
      "La cantidad de palabras introducidas es: 7\n",
      "Al ordenar y contar las veces que aparece cada palabra, el resultado es: \n",
      "\n",
      "El diccionario creado es: {'casa': 1, 'de': 3, 'la': 2, 'verde': 1}\n",
      "casa :  1 de :  3 la :  2 verde :  1 "
     ]
    }
   ],
   "source": [
    "cuenta_mis_palabras()"
   ]
  },
  {
   "cell_type": "markdown",
   "metadata": {},
   "source": [
    "- Exercici 4\n",
    "Diccionari invers.\n",
    "\n",
    "Resulta que el client té una enquesta molt antiga que s'emmagatzema en un diccionari i els resultats els necessita al revés, és a dir, intercanviats les claus i els valors. Els valors i claus en el diccionari original són únics; si aquest no és el cas, la funció hauria d'imprimir un missatge d'advertiment."
   ]
  },
  {
   "cell_type": "code",
   "execution_count": null,
   "metadata": {},
   "outputs": [],
   "source": [
    "def diccionari_invers(diccionario_intro):\n",
    "\n",
    "    valores_intro = list(diccionario_intro.values())\n",
    "\n",
    "    if len(valores_intro) != len(set(valores_intro)):   #La validación se basa en que la estructura SET no permite duplicados\n",
    "       print(\"Existen valores duplicados, éstos se presentarán en forma de lista \\n\")\n",
    "\n",
    "    diccionario_invertido = dict()\n",
    "    for clave, valor in diccionario_intro.items():\n",
    "        if valor in diccionario_invertido:               # Si el valor ya existe como clave en el nuevo diccionario\n",
    "            diccionario_invertido[valor].append(clave)   # Agregar la clave a la lista existente\n",
    "        else:\n",
    "            diccionario_invertido[valor] = [clave]       # Crear una nueva lista con la clave\n",
    "    \n",
    "    return diccionario_invertido                         # Se retorna el diccionario invertido\n",
    "       \n",
    "def imprimir_resultado(inicial, final):\n",
    "    print(f\"Diccionario original  : {inicial}\\n\") \n",
    "    print(f\"Diccionario invertido : {final}\\n\") \n",
    "\n",
    "def mi_diccionario_invertido(diccionario_original):     # Esta es la función principal que será invocada por el usuario\"\n",
    "   \n",
    "    diccionario_invertido = diccionari_invers(diccionario_original)\n",
    "    imprimir_resultado(diccionario_original,diccionario_invertido) # Se llama a la función que se encarga de inprimir el resultado\n",
    "    \n"
   ]
  },
  {
   "cell_type": "code",
   "execution_count": 46,
   "metadata": {},
   "outputs": [
    {
     "name": "stdout",
     "output_type": "stream",
     "text": [
      "Existen valores duplicados, éstos se presentarán en forma de lista \n",
      "\n",
      "Diccionario original  : {'a': 1, 'b': 2, 'c': 3, 'd': 2, 'e': 3, 'f': 4, 'g': 2}\n",
      "\n",
      "Diccionario invertido : {1: ['a'], 2: ['b', 'd', 'g'], 3: ['c', 'e'], 4: ['f']}\n",
      "\n"
     ]
    }
   ],
   "source": [
    "diccionario_original = {\"a\": 1, \"b\": 2, \"c\": 3, \"d\": 2, \"e\": 3, \"f\":4, \"g\": 2}\n",
    "mi_diccionario_invertido(diccionario_original)"
   ]
  },
  {
   "cell_type": "markdown",
   "metadata": {},
   "source": [
    "Nivell 2\n",
    "\n",
    "\n",
    "Exercici 1\n",
    "Diccionari invers amb duplicats\n",
    "\n",
    "Continuant amb l'exercici 4 del nivell 1: al client es va oblidar de comentar un detall i resulta que els valors en el diccionari original poden duplicar-se i més, per la qual cosa les claus intercanviades poden tenir duplicats. En aquest cas, en l'exercici anterior imprimies un missatge d'advertiment, ara, els valors del diccionari resultant hauran d'emmagatzemar-se com una llista. Tingues en compte que si és un valor únic no ha de ser una llista.\n",
    "\n"
   ]
  },
  {
   "cell_type": "code",
   "execution_count": 71,
   "metadata": {},
   "outputs": [],
   "source": [
    "# Funcion diccionario_intro\n",
    "def diccionari_invers(diccionario_intro):\n",
    "\n",
    "    diccionario_invertido = dict()\n",
    "\n",
    "    for clave, valor in diccionario_intro.items():\n",
    "        if valor in diccionario_invertido:  \n",
    "            # Si el valor ya existe como clave, se convierte en lista\n",
    "            if isinstance(diccionario_invertido[valor], list): #La función isinstance determina si valor es del tipo lista\n",
    "                diccionario_invertido[valor].append(clave) # dado que ya es una lista se hace el append del elemento\n",
    "            else:\n",
    "                diccionario_invertido[valor] = [diccionario_invertido[valor], clave] # se crea el elemento en el diccionario\n",
    "        else: #el valor no está duplicado\n",
    "            diccionario_invertido[valor] = clave  \n",
    "    \n",
    "    return diccionario_invertido\n",
    "# Fin funcion diccionario_intro\n",
    "\n",
    "def imprimir_resultado(inicial, final):\n",
    "    print(f\"Diccionario original  : {inicial}\") \n",
    "    print(f\"Diccionario invertido : {final}\") \n",
    "\n",
    "def mi_diccionario_con_lista(diccionario_original):\n",
    "    \n",
    "    diccionario_invertido = diccionari_invers(diccionario_original)\n",
    "    \n",
    "    imprimir_resultado(diccionario_original,diccionario_invertido) # Se llama a la función que se encarga de inprimir el resultado\n",
    "    \n",
    "\n"
   ]
  },
  {
   "cell_type": "code",
   "execution_count": 72,
   "metadata": {},
   "outputs": [
    {
     "name": "stdout",
     "output_type": "stream",
     "text": [
      "Diccionario original  : {'a': 1, 'b': 2, 'c': 3, 'd': 2, 'e': 3, 'f': 4, 'g': 3}\n",
      "Diccionario invertido : {1: 'a', 2: ['b', 'd'], 3: ['c', 'e', 'g'], 4: 'f'}\n"
     ]
    }
   ],
   "source": [
    "diccionario_original = {\"a\": 1, \"b\": 2, \"c\": 3, \"d\": 2, \"e\": 3, \"f\": 4, \"g\" : 3}\n",
    "mi_diccionario_con_lista(diccionario_original)"
   ]
  },
  {
   "cell_type": "markdown",
   "metadata": {},
   "source": [
    "Exercici 2\n",
    "Conversió de tipus de dades\n",
    "\n",
    "El client rep una llista de dades i necessita generar dues llistes, la primera on estaran tots els elements que es van poder convertir en flotants i l'altra on estan els elements que no es van poder convertir.\n",
    "\n",
    "Exemple de la llista que rep el client: [ '1.3', 'one' , '1e10' , 'seven', '3-1/2', ('2',1,1.4,'not-a-number'), [1,2,'3','3.4']]"
   ]
  },
  {
   "cell_type": "code",
   "execution_count": 91,
   "metadata": {},
   "outputs": [],
   "source": [
    "def separar_elementos_convertibles(lista):\n",
    "    convertibles = []\n",
    "    no_convertibles = []\n",
    "\n",
    "    # Procesar cada elemento de la lista\n",
    "    for elemento in lista:\n",
    "        if isinstance(elemento, (list, tuple)):  # Con isinstance se evalue si es una lista o tupla\n",
    "            for elemento_interno in elemento:    # Se itera sobre la lista o tupla\n",
    "                try:\n",
    "                    convertibles.append(float(elemento_interno))\n",
    "                except (ValueError, TypeError):\n",
    "                    no_convertibles.append(elemento_interno)\n",
    "        else:\n",
    "            try:\n",
    "                convertibles.append(float(elemento))\n",
    "            except (ValueError, TypeError):\n",
    "                no_convertibles.append(elemento)\n",
    "\n",
    "    return convertibles, no_convertibles\n",
    "\n",
    "def separa_mis_valores(datos):\n",
    "    # Programa Principal\n",
    "\n",
    "    # Se llama a la función que separa los elementos de datos\n",
    "    convertidos, no_convertidos = separar_elementos_convertibles(datos)\n",
    "\n",
    "    # Se imprimeen las listas con los resultados\n",
    "    print(\"Elementos convertidos a float:\", convertidos)\n",
    "    print(\"Elementos no convertibles:\", no_convertidos)\n",
    "\n",
    "    # Fin Programa Principal\n"
   ]
  },
  {
   "cell_type": "code",
   "execution_count": null,
   "metadata": {},
   "outputs": [
    {
     "name": "stdout",
     "output_type": "stream",
     "text": [
      "Elementos convertidos a float: [1.3, 10000000000.0, 2.0, 1.0, 1.4, 1.0, 2.0, 3.0, 3.4]\n",
      "Elementos no convertibles: ['one', 'seven', '3-1/2', 'not-a-number']\n"
     ]
    }
   ],
   "source": [
    "# Lista de entrada\n",
    "datos = ['1.3', 'one', '1e10', 'seven', '3-1/2', ('2', 1, 1.4, 'not-a-number'), [1, 2, '3', '3.4']]\n",
    "separa_mis_valores(datos)"
   ]
  },
  {
   "cell_type": "code",
   "execution_count": null,
   "metadata": {},
   "outputs": [],
   "source": [
    "\"\"\" Se utiliza esta función dado que, investigando en internet: \n",
    "\n",
    "     https://sparkbyexamples.com/python/check-if-a-string-is-a-float-in-python/#:~:text=isdigit()%20and%20replace(),a%20string%20with%20another%20character.\n",
    "     \n",
    "     ... The float() function has some limitations and can give you unexpected results.\n",
    "         It ignores the underscore between the digits, consider NaN as a true float, and many others.\n",
    "         So make sure to do a test before you use this method.\n",
    "\n",
    "     ...\n",
    "\n",
    "        The decimal module in Python provides high-precision decimal arithmetic, \n",
    "        it can also be used to check if a given string is a valid decimal number,\n",
    "        including floating-point numbers.    \n",
    "\n",
    "     \"\"\"\n",
    "\n",
    "from decimal import Decimal, InvalidOperation\n",
    "\n",
    "def is_decimal(s): \n",
    "    try:\n",
    "        Decimal(s)\n",
    "        return True\n",
    "    except InvalidOperation:\n",
    "        return False\n",
    "#Fin función is_decimal\n",
    "\n",
    "def separa_listas(datos):\n",
    "    convertible = []\n",
    "    no_convertible = []\n",
    "\n",
    "    for valor in range(len(datos)):\n",
    "        if not isinstance(datos[valor], (list, tuple)): \n",
    "            if is_decimal(datos[valor]):\n",
    "                convertible.append(float(datos[valor]))\n",
    "            else:\n",
    "                no_convertible.append(datos[valor])\n",
    "        else:\n",
    "            for elemento in range(len(datos[valor])):\n",
    "                if is_decimal(datos[valor][elemento]):\n",
    "                    convertible.append(float(datos[valor][elemento]))\n",
    "                else:\n",
    "                    no_convertible.append(datos[valor][elemento])\n",
    "    return convertible, no_convertible\n",
    "#Fin función separa_listas\n",
    "\n",
    "\n",
    "def separador_de_elementos_en_listas(datos_intro):   \n",
    "    convertibles_a_float, no_convertibles_a_float = separa_listas(datos_intro)\n",
    "\n",
    "    print(f\"Elementos de entrada convertibles en Float     : {convertibles_a_float} \\n\")\n",
    "    print(f\"Elementos de la lista no convertibles en Float :  al final: {no_convertibles_a_float}\")\n",
    "#Fin función separador_de_elementos_en_listas"
   ]
  },
  {
   "cell_type": "code",
   "execution_count": 99,
   "metadata": {},
   "outputs": [
    {
     "name": "stdout",
     "output_type": "stream",
     "text": [
      "Elementos de entrada convertibles en Float     : [1.3, 10000000000.0, 2.0, 1.0, 1.4, 1.0, 2.0, 3.0, 3.4] \n",
      "\n",
      "Elementos de la lista no convertibles en Float :  al final: ['one', 'seven', '3-1/2', 'not-a-number']\n"
     ]
    }
   ],
   "source": [
    "datos_intro = ['1.3', 'one', '1e10', 'seven', '3-1/2', ('2', 1, 1.4, 'not-a-number'), [1, 2, '3', '3.4']] \n",
    "separador_de_elementos_en_listas(datos_intro)"
   ]
  },
  {
   "cell_type": "markdown",
   "metadata": {},
   "source": [
    "Nivell 3\n",
    "Exercici 1\n",
    "Comptador i endreçador de paraules d'un text.\n",
    "\n",
    "El client va quedar content amb el comptador de paraules, però ara vol llegir arxius TXT i que calculi la freqüència de cada paraula ordenades dins de les entrades habituals del diccionari segons la lletra amb la qual comencen, és a dir, les claus han d'anar de la A a la Z i dins de la A hem d'anar de la A la Z. \n"
   ]
  },
  {
   "cell_type": "markdown",
   "metadata": {},
   "source": [
    "    Algunos de los sites investigados para este ejercio:\n",
    "    https://www.freecodecamp.org/news/with-open-in-python-with-statement-syntax-example/ \n",
    "    https://python-intermedio.readthedocs.io/es/latest/open_function.html\n",
    "    https://es.stackoverflow.com/questions/351364/python-escribir-una-funci%C3%B3n-que-reciba-una-cadena-y-devuelva-un-diccionario-con"
   ]
  },
  {
   "cell_type": "code",
   "execution_count": 133,
   "metadata": {},
   "outputs": [],
   "source": [
    "\n",
    "\n",
    "# Importar Librerias a ser utilizadas\n",
    "import re\n",
    "import collections\n",
    "from collections import defaultdict, Counter\n",
    "\n",
    "# Eliminar caracteres especiales distintos de palabras\n",
    "def limpiar_texto_a_lista(texto_por_examinar):\n",
    "    palabras = re.findall(r'\\b\\w+\\b', texto_por_examinar)       # Usamos una expresión regular (RegExp) para eliminar signos de puntuación\n",
    "    palabras.sort()                                             # Ordenamos el resuldo\n",
    "    return palabras                                             # Se retorna el texto examinado y  ordenado\n",
    "                    \n",
    "    \n",
    "# Crear nuevo dicionario ordenado\n",
    "def ordena_y_cuenta_palabras_en_texto_introducido():\n",
    "    lista_palabras = limpiar_texto_a_lista(texto)\n",
    "\n",
    "    nuevo_diccionario = defaultdict(dict)    # Se crea el nuevo diccionario con el método defaultdict de collections\n",
    "        \n",
    "    dic_palabra_numrepetidas = collections.Counter(lista_palabras) #El método Counter genera un diccionario con las palabras y las veces que se repiten\n",
    "\n",
    "    # el diccionario creado con Counter es de la forma {palabra:numero de veces que se repite}\n",
    "    for palabra, numrepetidas in dic_palabra_numrepetidas.items():   # Se recorre el diccionario creado\n",
    "        primera_letra = palabra[0].upper()                           # Se coloca la primera letra de cada palabra en mayúscula, ésta será la clave del diccionario exterior (padre)\n",
    "        if primera_letra.isalpha():                                  # Se valida que efctivamente sea una letra\n",
    "            nuevo_diccionario[primera_letra][palabra] = numrepetidas # Se asigna el número de veces que se repiute una palabra al diccionario hijo con clave esa palabra\n",
    "\n",
    "    diccionario_final = dict(nuevo_diccionario.items())              # Se crea el diccionario final según lo requerido en el ejercicio y se imprime\n",
    "    print(f\"El diccionario final es: {diccionario_final} \\n\\n\")\n",
    "\n",
    "    print(f\"Otra forma de presentar al nuevo_diciccionario podría ser : \\n\")\n",
    "    for letra, valor in nuevo_diccionario.items():\n",
    "        print(f\"{letra} : {valor} \\n\")\n",
    "\n",
    "#Lectura del archivo de entrada\n",
    "def leer_archivo_entrada():\n",
    "    try:\n",
    "        with open(\"C:/Users/User/Documents/CURSO DATA ANALYTICS ESPECIALIZATION/Phyton/tu_me_quieres_blanca.txt\",\"r\",encoding = \"utf-8\") as entrada:\n",
    "            texto = entrada.read().lower()                                # Al utilizar el with no haca falta cerrar (close) el archvivo ya que lo hace automáticamnete\n",
    "    except IOError as e:                                                  # Se valida la apertura del archico .txt\n",
    "        print('Ocurrió un IOError {}'.format(e.args[-1]))"
   ]
  },
  {
   "cell_type": "code",
   "execution_count": 134,
   "metadata": {},
   "outputs": [
    {
     "name": "stdout",
     "output_type": "stream",
     "text": [
      "El diccionario final es: {'A': {'a': 3, 'agua': 1, 'al': 2, 'alba': 4, 'alcobas': 1, 'alimenta': 1, 'alma': 1, 'amarga': 1, 'azucena': 1}, 'B': {'baco': 1, 'banquete': 1, 'bebe': 1, 'blanca': 3, 'boca': 1, 'bosques': 1, 'buen': 1}, 'C': {'cabañas': 1, 'carnes': 2, 'casta': 3, 'cerrada': 1, 'con': 4, 'conservas': 1, 'copas': 1, 'corola': 1, 'corriste': 1, 'cuando': 2, 'cubierto': 1, 'cuerpo': 1, 'cuáles': 1}, 'D': {'de': 8, 'dejaste': 1, 'del': 1, 'diga': 1, 'dios': 2, 'duerme': 1}, 'E': {'el': 4, 'ellas': 1, 'en': 4, 'engaño': 1, 'enredada': 1, 'entonces': 1, 'escarcha': 1, 'espumas': 1, 'esqueleto': 1, 'estrago': 1}, 'F': {'festejando': 1, 'filtrado': 1, 'frutos': 1}, 'H': {'habla': 1, 'hacia': 1, 'haya': 1, 'hayas': 1, 'hermana': 1, 'hombre': 1, 'hubiste': 1, 'huye': 1}, 'I': {'intacto': 1}, 'J': {'jardines': 1}, 'L': {'la': 3, 'labios': 1, 'las': 7, 'lo': 2, 'los': 4, 'luna': 1, 'lévate': 1, 'límpiate': 1}, 'M': {'mano': 1, 'manos': 1, 'margarita': 1, 'me': 10, 'mi': 1, 'mieles': 1, 'milagros': 1, 'mojada': 1, 'montaña': 1, 'morados': 1}, 'N': {'negros': 1, 'ni': 2, 'no': 1, 'nácar': 1, 'nívea': 2}, 'P': {'perdone': 2, 'perfume': 1, 'por': 2, 'pretendes': 3, 'preténdeme': 3, 'puesto': 1, 'pájaros': 1, 'pámpanos': 1}, 'Q': {'que': 6, 'quedó': 1, 'quieres': 6}, 'R': {'rayo': 1, 'raíz': 1, 'renueva': 1, 'rocas': 1, 'rojo': 1}, 'S': {'salitre': 1, 'se': 2, 'sea': 1, 'sean': 1, 'sobre': 2, 'sé': 1}, 'T': {'te': 3, 'tejidos': 1, 'tenue': 1, 'tierra': 1, 'toca': 1, 'todas': 2, 'todavía': 1, 'tornadas': 1, 'tú': 8}, 'U': {'un': 1, 'una': 1}, 'V': {'vestido': 1, 'vete': 1, 'vive': 1}, 'Y': {'y': 5}} \n",
      "\n",
      "\n",
      "Otra forma de presentar al nuevo_diciccionario podría ser : \n",
      "\n",
      "A : {'a': 3, 'agua': 1, 'al': 2, 'alba': 4, 'alcobas': 1, 'alimenta': 1, 'alma': 1, 'amarga': 1, 'azucena': 1} \n",
      "\n",
      "B : {'baco': 1, 'banquete': 1, 'bebe': 1, 'blanca': 3, 'boca': 1, 'bosques': 1, 'buen': 1} \n",
      "\n",
      "C : {'cabañas': 1, 'carnes': 2, 'casta': 3, 'cerrada': 1, 'con': 4, 'conservas': 1, 'copas': 1, 'corola': 1, 'corriste': 1, 'cuando': 2, 'cubierto': 1, 'cuerpo': 1, 'cuáles': 1} \n",
      "\n",
      "D : {'de': 8, 'dejaste': 1, 'del': 1, 'diga': 1, 'dios': 2, 'duerme': 1} \n",
      "\n",
      "E : {'el': 4, 'ellas': 1, 'en': 4, 'engaño': 1, 'enredada': 1, 'entonces': 1, 'escarcha': 1, 'espumas': 1, 'esqueleto': 1, 'estrago': 1} \n",
      "\n",
      "F : {'festejando': 1, 'filtrado': 1, 'frutos': 1} \n",
      "\n",
      "H : {'habla': 1, 'hacia': 1, 'haya': 1, 'hayas': 1, 'hermana': 1, 'hombre': 1, 'hubiste': 1, 'huye': 1} \n",
      "\n",
      "I : {'intacto': 1} \n",
      "\n",
      "J : {'jardines': 1} \n",
      "\n",
      "L : {'la': 3, 'labios': 1, 'las': 7, 'lo': 2, 'los': 4, 'luna': 1, 'lévate': 1, 'límpiate': 1} \n",
      "\n",
      "M : {'mano': 1, 'manos': 1, 'margarita': 1, 'me': 10, 'mi': 1, 'mieles': 1, 'milagros': 1, 'mojada': 1, 'montaña': 1, 'morados': 1} \n",
      "\n",
      "N : {'negros': 1, 'ni': 2, 'no': 1, 'nácar': 1, 'nívea': 2} \n",
      "\n",
      "P : {'perdone': 2, 'perfume': 1, 'por': 2, 'pretendes': 3, 'preténdeme': 3, 'puesto': 1, 'pájaros': 1, 'pámpanos': 1} \n",
      "\n",
      "Q : {'que': 6, 'quedó': 1, 'quieres': 6} \n",
      "\n",
      "R : {'rayo': 1, 'raíz': 1, 'renueva': 1, 'rocas': 1, 'rojo': 1} \n",
      "\n",
      "S : {'salitre': 1, 'se': 2, 'sea': 1, 'sean': 1, 'sobre': 2, 'sé': 1} \n",
      "\n",
      "T : {'te': 3, 'tejidos': 1, 'tenue': 1, 'tierra': 1, 'toca': 1, 'todas': 2, 'todavía': 1, 'tornadas': 1, 'tú': 8} \n",
      "\n",
      "U : {'un': 1, 'una': 1} \n",
      "\n",
      "V : {'vestido': 1, 'vete': 1, 'vive': 1} \n",
      "\n",
      "Y : {'y': 5} \n",
      "\n"
     ]
    }
   ],
   "source": [
    "# Archivo de texto a procesar\n",
    "leer_archivo_entrada()\n",
    "ordena_y_cuenta_palabras_en_texto_introducido()"
   ]
  }
 ],
 "metadata": {
  "kernelspec": {
   "display_name": "Python 3",
   "language": "python",
   "name": "python3"
  },
  "language_info": {
   "codemirror_mode": {
    "name": "ipython",
    "version": 3
   },
   "file_extension": ".py",
   "mimetype": "text/x-python",
   "name": "python",
   "nbconvert_exporter": "python",
   "pygments_lexer": "ipython3",
   "version": "3.13.0"
  }
 },
 "nbformat": 4,
 "nbformat_minor": 2
}
